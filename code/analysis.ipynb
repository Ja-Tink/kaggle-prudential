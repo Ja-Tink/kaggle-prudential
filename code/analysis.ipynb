{
 "cells": [
  {
   "cell_type": "code",
   "execution_count": 1,
   "id": "b43b0001-2343-4afa-b0ac-6802a73812f7",
   "metadata": {},
   "outputs": [],
   "source": [
    "import pandas as pd\n",
    "import matplotlib.pyplot as plt"
   ]
  },
  {
   "cell_type": "code",
   "execution_count": 4,
   "id": "9e9f83cb-84b7-400e-b513-ab2ed3a3549e",
   "metadata": {},
   "outputs": [],
   "source": [
    "#load test data\n",
    "test_cols = pd.read_csv(\"./data/test.csv\")\n",
    "test_preds = pd.read_csv(\"./submissions/submission.csv\")\n",
    "test_w_preds = pd.concat([test_cols, test_preds], axis = 1)"
   ]
  },
  {
   "cell_type": "code",
   "execution_count": 9,
   "id": "f26df7df-4a88-435d-b87d-4d23c7674398",
   "metadata": {},
   "outputs": [
    {
     "name": "stdout",
     "output_type": "stream",
     "text": [
      "127\n"
     ]
    }
   ],
   "source": [
    "#number of columns:\n",
    "print(len(test_cols.columns))"
   ]
  },
  {
   "cell_type": "code",
   "execution_count": 6,
   "id": "c86e4778-4b1a-4048-b64f-d9fcef84d653",
   "metadata": {},
   "outputs": [
    {
     "name": "stdout",
     "output_type": "stream",
     "text": [
      "Id -- Type: <class 'numpy.int64'>\n",
      "Product_Info_1 -- Type: <class 'numpy.int64'>\n",
      "Product_Info_2 -- Type: <class 'str'>\n",
      "Product_Info_3 -- Type: <class 'numpy.int64'>\n",
      "Product_Info_4 -- Type: <class 'numpy.float64'>\n",
      "Product_Info_5 -- Type: <class 'numpy.int64'>\n",
      "Product_Info_6 -- Type: <class 'numpy.int64'>\n",
      "Product_Info_7 -- Type: <class 'numpy.int64'>\n",
      "Ins_Age -- Type: <class 'numpy.float64'>\n",
      "Ht -- Type: <class 'numpy.float64'>\n",
      "Wt -- Type: <class 'numpy.float64'>\n",
      "BMI -- Type: <class 'numpy.float64'>\n",
      "Employment_Info_1 -- Type: <class 'numpy.float64'>\n",
      "Employment_Info_2 -- Type: <class 'numpy.int64'>\n",
      "Employment_Info_3 -- Type: <class 'numpy.int64'>\n",
      "Employment_Info_4 -- Type: <class 'numpy.float64'>\n",
      "Employment_Info_5 -- Type: <class 'numpy.int64'>\n",
      "Employment_Info_6 -- Type: <class 'numpy.float64'>\n",
      "InsuredInfo_1 -- Type: <class 'numpy.int64'>\n",
      "InsuredInfo_2 -- Type: <class 'numpy.int64'>\n",
      "InsuredInfo_3 -- Type: <class 'numpy.int64'>\n",
      "InsuredInfo_4 -- Type: <class 'numpy.int64'>\n",
      "InsuredInfo_5 -- Type: <class 'numpy.int64'>\n",
      "InsuredInfo_6 -- Type: <class 'numpy.int64'>\n",
      "InsuredInfo_7 -- Type: <class 'numpy.int64'>\n",
      "Insurance_History_1 -- Type: <class 'numpy.int64'>\n",
      "Insurance_History_2 -- Type: <class 'numpy.int64'>\n",
      "Insurance_History_3 -- Type: <class 'numpy.int64'>\n",
      "Insurance_History_4 -- Type: <class 'numpy.int64'>\n",
      "Insurance_History_5 -- Type: <class 'numpy.float64'>\n",
      "Insurance_History_7 -- Type: <class 'numpy.int64'>\n",
      "Insurance_History_8 -- Type: <class 'numpy.int64'>\n",
      "Insurance_History_9 -- Type: <class 'numpy.int64'>\n",
      "Family_Hist_1 -- Type: <class 'numpy.int64'>\n",
      "Family_Hist_2 -- Type: <class 'numpy.float64'>\n",
      "Family_Hist_3 -- Type: <class 'numpy.float64'>\n",
      "Family_Hist_4 -- Type: <class 'numpy.float64'>\n",
      "Family_Hist_5 -- Type: <class 'numpy.float64'>\n",
      "Medical_History_1 -- Type: <class 'numpy.float64'>\n",
      "Medical_History_2 -- Type: <class 'numpy.int64'>\n",
      "Medical_History_3 -- Type: <class 'numpy.int64'>\n",
      "Medical_History_4 -- Type: <class 'numpy.int64'>\n",
      "Medical_History_5 -- Type: <class 'numpy.int64'>\n",
      "Medical_History_6 -- Type: <class 'numpy.int64'>\n",
      "Medical_History_7 -- Type: <class 'numpy.int64'>\n",
      "Medical_History_8 -- Type: <class 'numpy.int64'>\n",
      "Medical_History_9 -- Type: <class 'numpy.int64'>\n",
      "Medical_History_10 -- Type: <class 'numpy.float64'>\n",
      "Medical_History_11 -- Type: <class 'numpy.int64'>\n",
      "Medical_History_12 -- Type: <class 'numpy.int64'>\n",
      "Medical_History_13 -- Type: <class 'numpy.int64'>\n",
      "Medical_History_14 -- Type: <class 'numpy.int64'>\n",
      "Medical_History_15 -- Type: <class 'numpy.float64'>\n",
      "Medical_History_16 -- Type: <class 'numpy.int64'>\n",
      "Medical_History_17 -- Type: <class 'numpy.int64'>\n",
      "Medical_History_18 -- Type: <class 'numpy.int64'>\n",
      "Medical_History_19 -- Type: <class 'numpy.int64'>\n",
      "Medical_History_20 -- Type: <class 'numpy.int64'>\n",
      "Medical_History_21 -- Type: <class 'numpy.int64'>\n",
      "Medical_History_22 -- Type: <class 'numpy.int64'>\n",
      "Medical_History_23 -- Type: <class 'numpy.int64'>\n",
      "Medical_History_24 -- Type: <class 'numpy.float64'>\n",
      "Medical_History_25 -- Type: <class 'numpy.int64'>\n",
      "Medical_History_26 -- Type: <class 'numpy.int64'>\n",
      "Medical_History_27 -- Type: <class 'numpy.int64'>\n",
      "Medical_History_28 -- Type: <class 'numpy.int64'>\n",
      "Medical_History_29 -- Type: <class 'numpy.int64'>\n",
      "Medical_History_30 -- Type: <class 'numpy.int64'>\n",
      "Medical_History_31 -- Type: <class 'numpy.int64'>\n",
      "Medical_History_32 -- Type: <class 'numpy.float64'>\n",
      "Medical_History_33 -- Type: <class 'numpy.int64'>\n",
      "Medical_History_34 -- Type: <class 'numpy.int64'>\n",
      "Medical_History_35 -- Type: <class 'numpy.int64'>\n",
      "Medical_History_36 -- Type: <class 'numpy.int64'>\n",
      "Medical_History_37 -- Type: <class 'numpy.int64'>\n",
      "Medical_History_38 -- Type: <class 'numpy.int64'>\n",
      "Medical_History_39 -- Type: <class 'numpy.int64'>\n",
      "Medical_History_40 -- Type: <class 'numpy.int64'>\n",
      "Medical_History_41 -- Type: <class 'numpy.int64'>\n",
      "Medical_Keyword_1 -- Type: <class 'numpy.int64'>\n",
      "Medical_Keyword_2 -- Type: <class 'numpy.int64'>\n",
      "Medical_Keyword_3 -- Type: <class 'numpy.int64'>\n",
      "Medical_Keyword_4 -- Type: <class 'numpy.int64'>\n",
      "Medical_Keyword_5 -- Type: <class 'numpy.int64'>\n",
      "Medical_Keyword_6 -- Type: <class 'numpy.int64'>\n",
      "Medical_Keyword_7 -- Type: <class 'numpy.int64'>\n",
      "Medical_Keyword_8 -- Type: <class 'numpy.int64'>\n",
      "Medical_Keyword_9 -- Type: <class 'numpy.int64'>\n",
      "Medical_Keyword_10 -- Type: <class 'numpy.int64'>\n",
      "Medical_Keyword_11 -- Type: <class 'numpy.int64'>\n",
      "Medical_Keyword_12 -- Type: <class 'numpy.int64'>\n",
      "Medical_Keyword_13 -- Type: <class 'numpy.int64'>\n",
      "Medical_Keyword_14 -- Type: <class 'numpy.int64'>\n",
      "Medical_Keyword_15 -- Type: <class 'numpy.int64'>\n",
      "Medical_Keyword_16 -- Type: <class 'numpy.int64'>\n",
      "Medical_Keyword_17 -- Type: <class 'numpy.int64'>\n",
      "Medical_Keyword_18 -- Type: <class 'numpy.int64'>\n",
      "Medical_Keyword_19 -- Type: <class 'numpy.int64'>\n",
      "Medical_Keyword_20 -- Type: <class 'numpy.int64'>\n",
      "Medical_Keyword_21 -- Type: <class 'numpy.int64'>\n",
      "Medical_Keyword_22 -- Type: <class 'numpy.int64'>\n",
      "Medical_Keyword_23 -- Type: <class 'numpy.int64'>\n",
      "Medical_Keyword_24 -- Type: <class 'numpy.int64'>\n",
      "Medical_Keyword_25 -- Type: <class 'numpy.int64'>\n",
      "Medical_Keyword_26 -- Type: <class 'numpy.int64'>\n",
      "Medical_Keyword_27 -- Type: <class 'numpy.int64'>\n",
      "Medical_Keyword_28 -- Type: <class 'numpy.int64'>\n",
      "Medical_Keyword_29 -- Type: <class 'numpy.int64'>\n",
      "Medical_Keyword_30 -- Type: <class 'numpy.int64'>\n",
      "Medical_Keyword_31 -- Type: <class 'numpy.int64'>\n",
      "Medical_Keyword_32 -- Type: <class 'numpy.int64'>\n",
      "Medical_Keyword_33 -- Type: <class 'numpy.int64'>\n",
      "Medical_Keyword_34 -- Type: <class 'numpy.int64'>\n",
      "Medical_Keyword_35 -- Type: <class 'numpy.int64'>\n",
      "Medical_Keyword_36 -- Type: <class 'numpy.int64'>\n",
      "Medical_Keyword_37 -- Type: <class 'numpy.int64'>\n",
      "Medical_Keyword_38 -- Type: <class 'numpy.int64'>\n",
      "Medical_Keyword_39 -- Type: <class 'numpy.int64'>\n",
      "Medical_Keyword_40 -- Type: <class 'numpy.int64'>\n",
      "Medical_Keyword_41 -- Type: <class 'numpy.int64'>\n",
      "Medical_Keyword_42 -- Type: <class 'numpy.int64'>\n",
      "Medical_Keyword_43 -- Type: <class 'numpy.int64'>\n",
      "Medical_Keyword_44 -- Type: <class 'numpy.int64'>\n",
      "Medical_Keyword_45 -- Type: <class 'numpy.int64'>\n",
      "Medical_Keyword_46 -- Type: <class 'numpy.int64'>\n",
      "Medical_Keyword_47 -- Type: <class 'numpy.int64'>\n",
      "Medical_Keyword_48 -- Type: <class 'numpy.int64'>\n"
     ]
    }
   ],
   "source": [
    "#datatype by col\n",
    "for col in test_cols.columns:\n",
    "    print(f\"{col} -- Type: {type(test_cols[col][0])}\")"
   ]
  },
  {
   "cell_type": "code",
   "execution_count": 10,
   "id": "1e58f4e5-eda0-4949-b695-c9c68c34f432",
   "metadata": {},
   "outputs": [
    {
     "name": "stdout",
     "output_type": "stream",
     "text": [
      "Number of NaNs: Employment_Info_1          3\n",
      "Employment_Info_4       2137\n",
      "Employment_Info_6       3787\n",
      "Insurance_History_5     8105\n",
      "Family_Hist_2           9880\n",
      "Family_Hist_3          11064\n",
      "Family_Hist_4           6677\n",
      "Family_Hist_5          13624\n",
      "Medical_History_1       2972\n",
      "Medical_History_10     19564\n",
      "Medical_History_15     14864\n",
      "Medical_History_24     18585\n",
      "Medical_History_32     19414\n",
      "dtype: int64\n"
     ]
    }
   ],
   "source": [
    "#missing values by column\n",
    "print(\"Number of NaNs:\", test_cols.isna().sum()[test_cols.isna().sum() != 0])"
   ]
  },
  {
   "cell_type": "code",
   "execution_count": null,
   "id": "d23d3bd9-f322-4997-9deb-48f1020a9d9d",
   "metadata": {},
   "outputs": [],
   "source": []
  }
 ],
 "metadata": {
  "kernelspec": {
   "display_name": "Python 3 (ipykernel)",
   "language": "python",
   "name": "python3"
  },
  "language_info": {
   "codemirror_mode": {
    "name": "ipython",
    "version": 3
   },
   "file_extension": ".py",
   "mimetype": "text/x-python",
   "name": "python",
   "nbconvert_exporter": "python",
   "pygments_lexer": "ipython3",
   "version": "3.12.8"
  }
 },
 "nbformat": 4,
 "nbformat_minor": 5
}
